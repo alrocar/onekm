{
 "cells": [
  {
   "cell_type": "code",
   "execution_count": null,
   "metadata": {},
   "outputs": [],
   "source": [
    "import geopandas as gpd\n",
    "import matplotlib.pyplot as plt\n",
    "import networkx as nx\n",
    "import osmnx as ox\n",
    "from descartes import PolygonPatch\n",
    "from shapely.geometry import Point, LineString, Polygon\n",
    "ox.config(log_console=True, use_cache=True)\n",
    "ox.__version__"
   ]
  },
  {
   "cell_type": "code",
   "execution_count": null,
   "metadata": {},
   "outputs": [],
   "source": [
    "network_type = 'walk'\n",
    "trip_time = 30 #in minutes\n",
    "trip_length = 1000 #in meters\n",
    "travel_speed = 4.5 #walking speed in km/hour\n",
    "lat = YOUR_LONGITUDE\n",
    "lon = YOUR_LATITUDE\n",
    "iso_color = '#4edce6'"
   ]
  },
  {
   "cell_type": "code",
   "execution_count": null,
   "metadata": {},
   "outputs": [],
   "source": [
    "G = ox.graph_from_point((lat, lon), distance=1000, network_type=network_type)\n",
    "ox.plot_graph(G, fig_height=12)"
   ]
  },
  {
   "cell_type": "code",
   "execution_count": null,
   "metadata": {},
   "outputs": [],
   "source": [
    "# find the centermost node and then project the graph to UTM\n",
    "center = ox.get_nearest_node(G, (lat, lon), method='euclidean', return_dist=True)\n",
    "G1 = ox.project_graph(G)\n",
    "center_node = center[0]"
   ]
  },
  {
   "cell_type": "code",
   "execution_count": null,
   "metadata": {},
   "outputs": [],
   "source": [
    "# add an edge attribute for time in minutes required to traverse each edge\n",
    "meters_per_minute = travel_speed * 1000 / 60 #km per hour to m per minute\n",
    "for u, v, k, data in G1.edges(data=True, keys=True):\n",
    "    data['time'] = data['length'] / meters_per_minute"
   ]
  },
  {
   "cell_type": "code",
   "execution_count": null,
   "metadata": {},
   "outputs": [],
   "source": [
    "# color the nodes according to isochrone then plot the street network\n",
    "def create_subgraph(G, center_node, radius, distance):\n",
    "    subgraph = nx.ego_graph(G, center_node, radius=radius, distance=distance)\n",
    "    node_colors = {}\n",
    "    for node in subgraph.nodes():\n",
    "        node_colors[node] = iso_color\n",
    "    nc = [node_colors[node] if node in node_colors else 'none' for node in G.nodes()]\n",
    "    ns = [20 if node in node_colors else 0 for node in G.nodes()]\n",
    "    fig, ax = ox.plot_graph(G, fig_height=12, node_color=nc, node_size=ns, node_zorder=2)"
   ]
  },
  {
   "cell_type": "code",
   "execution_count": null,
   "metadata": {},
   "outputs": [],
   "source": [
    "create_subgraph(G1, center_node, trip_length, 'length')"
   ]
  },
  {
   "cell_type": "code",
   "execution_count": null,
   "metadata": {},
   "outputs": [],
   "source": [
    "def make_iso_polys(G, center_node, radius, distance, edge_buff=25, node_buff=50, infill=False):\n",
    "    isochrone_polys = []\n",
    "    subgraph = nx.ego_graph(G, center_node, radius=radius, distance=distance)\n",
    "\n",
    "    node_points = [Point((data['x'], data['y'])) for node, data in subgraph.nodes(data=True)]\n",
    "    nodes_gdf = gpd.GeoDataFrame({'id': subgraph.nodes()}, geometry=node_points)\n",
    "    nodes_gdf = nodes_gdf.set_index('id')\n",
    "\n",
    "    edge_lines = []\n",
    "    for n_fr, n_to in subgraph.edges():\n",
    "        f = nodes_gdf.loc[n_fr].geometry\n",
    "        t = nodes_gdf.loc[n_to].geometry\n",
    "        edge_lines.append(LineString([f,t]))\n",
    "\n",
    "    n = nodes_gdf.buffer(node_buff).geometry\n",
    "    e = gpd.GeoSeries(edge_lines).buffer(edge_buff).geometry\n",
    "    all_gs = list(n) + list(e)\n",
    "    new_iso = gpd.GeoSeries(all_gs).unary_union\n",
    "        \n",
    "    # try to fill in surrounded areas so shapes will appear solid and blocks without white space inside them\n",
    "    if infill:\n",
    "        new_iso = Polygon(new_iso.exterior)\n",
    "    return new_iso"
   ]
  },
  {
   "cell_type": "code",
   "execution_count": null,
   "metadata": {},
   "outputs": [],
   "source": [
    "iso_length = make_iso_polys(G1, center_node, trip_length, 'length', edge_buff=25, node_buff=0, infill=True)\n",
    "fig, ax = ox.plot_graph(G1, fig_height=12, show=False, close=False, edge_color='k', edge_alpha=0.2, node_color='none')\n",
    "\n",
    "patch = PolygonPatch(iso_length, fc=iso_color, ec='none', alpha=0.6, zorder=-1)\n",
    "ax.add_patch(patch)\n",
    "plt.show()"
   ]
  },
  {
   "cell_type": "code",
   "execution_count": null,
   "metadata": {},
   "outputs": [],
   "source": [
    "from geopandas import GeoSeries, GeoDataFrame\n",
    "gdf = GeoDataFrame(geometry=GeoSeries(iso_length))"
   ]
  },
  {
   "cell_type": "code",
   "execution_count": null,
   "metadata": {},
   "outputs": [],
   "source": [
    "gdf.crs = G1.graph['crs']\n",
    "gdf = gdf.to_crs(\"EPSG:4326\")\n",
    "bounds = gdf.bounds"
   ]
  },
  {
   "cell_type": "code",
   "execution_count": null,
   "metadata": {},
   "outputs": [],
   "source": [
    "gdf.head()"
   ]
  },
  {
   "cell_type": "code",
   "execution_count": null,
   "metadata": {},
   "outputs": [],
   "source": [
    "import os;\n",
    "import time;\n",
    "\n",
    "from cartoframes import to_carto\n",
    "from cartoframes.auth import Credentials, set_default_credentials\n",
    "from cartoframes.viz import Map, Layer\n",
    "\n",
    "CARTO_BASE_URL = os.environ['CARTO_API_URL']\n",
    "CARTO_API_KEY = os.environ['CARTO_API_KEY']\n",
    "CARTO_USER_NAME = os.environ['CARTO_USER_NAME']"
   ]
  },
  {
   "cell_type": "code",
   "execution_count": null,
   "metadata": {},
   "outputs": [],
   "source": [
    "Map(Layer(gdf))"
   ]
  },
  {
   "cell_type": "code",
   "execution_count": null,
   "metadata": {},
   "outputs": [],
   "source": [
    "creds = Credentials(username=CARTO_USER_NAME, api_key=CARTO_API_KEY)\n",
    "set_default_credentials(creds)\n",
    "dataset_name = 'onekmiso'"
   ]
  },
  {
   "cell_type": "code",
   "execution_count": null,
   "metadata": {},
   "outputs": [],
   "source": [
    "to_carto(gdf, dataset_name, if_exists='replace', log_enabled=True)"
   ]
  },
  {
   "cell_type": "code",
   "execution_count": null,
   "metadata": {},
   "outputs": [],
   "source": [
    "# Carto Python SDK\n",
    "from carto.auth import APIKeyAuthClient\n",
    "from carto.maps import NamedMapManager\n",
    "\n",
    "# carto-print\n",
    "from carto.print import Printer"
   ]
  },
  {
   "cell_type": "code",
   "execution_count": null,
   "metadata": {},
   "outputs": [],
   "source": [
    "def create_named_map(auth_client, username, dataset_name, map_name, factor):\n",
    "    template = {\n",
    "      \"version\": \"0.0.1\",\n",
    "      \"name\": map_name,\n",
    "      \"auth\": {\n",
    "        \"method\": \"open\"\n",
    "      },\n",
    "      \"placeholders\": {},\n",
    "      \"view\": {},\n",
    "      \"layergroup\": {\n",
    "        \"version\": \"1.0.1\",\n",
    "        \"layers\": [\n",
    "          {\n",
    "            \"type\": \"http\",\n",
    "            \"options\": {\n",
    "                \"urlTemplate\": \"http://a.tile.stamen.com/toner/{z}/{x}/{y}.png\"\n",
    "                #\"urlTemplate\": \"https://a.basemaps.cartocdn.com/rastertiles/voyager_labels_under/{z}/{x}/{y}.png\"\n",
    "            }\n",
    "          },\n",
    "          {\n",
    "            \"type\": \"cartodb\",\n",
    "            \"options\": {\n",
    "              \"cartocss_version\": \"2.1.1\",\n",
    "              \"cartocss\": '''#layer {\n",
    "                              polygon-fill: #2a2a2a;\n",
    "                              polygon-opacity: 0;\n",
    "                            }\n",
    "                            #layer::outline {\n",
    "                              line-width: 6 * %d;\n",
    "                              line-color: #4edce6;\n",
    "                              line-opacity: 1;\n",
    "                              line-dasharray: 10, 3, 2, 3;\n",
    "                            }''' % (factor),\n",
    "              \"sql\": '''SELECT 1 AS cartodb_id,\n",
    "                               the_geom,\n",
    "                               the_geom_webmercator\n",
    "                        FROM {dataset}'''.format(dataset=dataset_name)\n",
    "            }\n",
    "          },\n",
    "          {\n",
    "            \"type\": \"cartodb\",\n",
    "            \"options\": {\n",
    "              \"cartocss_version\": \"2.1.1\",\n",
    "              \"cartocss\": '''#layer {\n",
    "                              marker-width: 40 * %d;\n",
    "                              marker-fill: #EE4D5A;\n",
    "                              marker-fill-opacity: 0.9;\n",
    "                              marker-file: url('https://s3.amazonaws.com/com.cartodb.users-assets.production/maki-icons/cross-18.svg');\n",
    "                              marker-allow-overlap: true;\n",
    "                            }\n",
    "                            ''' % (factor),\n",
    "              \"sql\": '''SELECT 1 AS cartodb_id,\n",
    "                               ST_SetSRID( ST_Point( {lon}, {lat}), 4326) as the_geom,\n",
    "                               ST_Transform(ST_SetSRID( ST_Point( {lon}, {lat}), 4326), 3857) as the_geom_webmercator\n",
    "                     '''.format(lon=lon, lat=lat)\n",
    "            }\n",
    "          }\n",
    "        ]\n",
    "      }\n",
    "    }\n",
    "\n",
    "    named_map_manager = NamedMapManager(auth_client)\n",
    "\n",
    "    try:\n",
    "      named_map = named_map_manager.get(map_name)\n",
    "      if named_map is not None:\n",
    "          named_map.client = auth_client\n",
    "          named_map.delete()\n",
    "    except Exception as e:\n",
    "      #ignore\n",
    "      print(e)\n",
    "\n",
    "    return named_map_manager.create(template=template)"
   ]
  },
  {
   "cell_type": "code",
   "execution_count": null,
   "metadata": {},
   "outputs": [],
   "source": [
    "CARTO_BASE_URL"
   ]
  },
  {
   "cell_type": "code",
   "execution_count": null,
   "metadata": {},
   "outputs": [],
   "source": [
    "auth_client = APIKeyAuthClient(CARTO_BASE_URL, CARTO_API_KEY)\n",
    "DPI = 72\n",
    "FACTOR = DPI / 72.0\n",
    "map_name = 'tpl_' + dataset_name + str(int(round(time.time() * 1000)))\n",
    "create_named_map(auth_client, CARTO_USER_NAME, dataset_name, map_name, FACTOR)"
   ]
  },
  {
   "cell_type": "code",
   "execution_count": null,
   "metadata": {},
   "outputs": [],
   "source": [
    "map = {\n",
    "  'username': CARTO_USER_NAME,\n",
    "  'map_id': map_name,\n",
    "  'width': 29.7,\n",
    "  'height': 21,\n",
    "  'dpi': DPI,\n",
    "  'zoom': 1,\n",
    "  'bounds': f\"{bounds['minx'][0]},{bounds['miny'][0]},{bounds['maxx'][0]},{bounds['maxy'][0]}\",\n",
    "  'api_key': CARTO_API_KEY\n",
    "}\n",
    "\n",
    "p = Printer(map['username'], map['map_id'], map['api_key'], map['width'], map['height'], map['zoom'], map['bounds'], map['dpi'], 'RGBA')\n",
    "image_path = p.export('.')"
   ]
  },
  {
   "cell_type": "code",
   "execution_count": null,
   "metadata": {},
   "outputs": [],
   "source": [
    "from IPython.display import Image\n",
    "Image(filename=image_path)"
   ]
  },
  {
   "cell_type": "code",
   "execution_count": null,
   "metadata": {},
   "outputs": [],
   "source": [
    "named_map_manager = NamedMapManager(auth_client)\n",
    "\n",
    "try:\n",
    "  named_map = named_map_manager.get(map_name)\n",
    "  if named_map is not None:\n",
    "      named_map.client = auth_client\n",
    "      named_map.delete()\n",
    "except Exception as e:\n",
    "  #ignore\n",
    "  print(e)"
   ]
  }
 ],
 "metadata": {
  "kernelspec": {
   "display_name": "Python 3",
   "language": "python",
   "name": "python3"
  },
  "language_info": {
   "codemirror_mode": {
    "name": "ipython",
    "version": 3
   },
   "file_extension": ".py",
   "mimetype": "text/x-python",
   "name": "python",
   "nbconvert_exporter": "python",
   "pygments_lexer": "ipython3",
   "version": "3.7.7"
  }
 },
 "nbformat": 4,
 "nbformat_minor": 4
}
